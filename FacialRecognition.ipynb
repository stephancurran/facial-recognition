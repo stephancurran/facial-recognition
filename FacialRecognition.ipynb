{
 "cells": [
  {
   "cell_type": "markdown",
   "id": "b97472ce-5578-4e57-9d8b-67e7444a1689",
   "metadata": {},
   "source": [
    "# Introduction"
   ]
  },
  {
   "cell_type": "markdown",
   "id": "091e12e4-d4f7-4be2-a6e9-d71bc86cc401",
   "metadata": {},
   "source": [
    "<p>\n",
    "    I was inspired by <a href=\"https://towardsdatascience.com/real-time-face-recognition-an-end-to-end-project-b738bb0f7348\">this</a> article to try my hand at facial recognition. This notebook contains an app in two parts. The first uses a webcam and face detection to take mug shots of the user which are used to train a recognizer. The second part also uses face detection, but now uses the trained recognizer to predict whether the detected faces are in the training set.\n",
    "</p>\n",
    "\n",
    "<p>\n",
    "    <center>\n",
    "        <figure style=\"display: inline-block\">\n",
    "            <img src=\"demo_images/register_demo.gif\" width=\"300\" height=\"auto\" />\n",
    "            <figcaption>Registering a new user</figcaption>\n",
    "        </figure>\n",
    "        <figure style=\"display: inline-block\">\n",
    "            <img src=\"demo_images/single_direct.gif\" width=\"300\" height=\"auto\" />\n",
    "            <figcaption>Authenticating a user</figcaption>\n",
    "        </figure>\n",
    "    </center>\n",
    "</p>"
   ]
  },
  {
   "cell_type": "markdown",
   "id": "1f2972f6-541b-4dce-9c6b-34735a8776e1",
   "metadata": {},
   "source": [
    "## Requirements\n",
    "\n",
    "<p>This notebook was written with Python 3.8.0 and the following libraries. If you have difficulties running it with other versions, try using a virtual environment and running this cell.</p>\n",
    "\n",
    "<p><strong>Note:</strong> The code depends on a local webcam, so this won't work in Google Colab or other web-based environments.</p>"
   ]
  },
  {
   "cell_type": "code",
   "execution_count": null,
   "id": "b9eb079a-3d3c-4e32-92f1-cd1b114b1807",
   "metadata": {},
   "outputs": [],
   "source": [
    "!pip3 install opencv-contrib-python==4.8.0.76 imutils==0.5.4 matplotlib==3.7.3 numpy==1.24.4 imageio==2.31.5"
   ]
  },
  {
   "cell_type": "markdown",
   "id": "b8b6bce7-97a1-40eb-9613-b8a85b6f7adc",
   "metadata": {},
   "source": [
    "## Imports"
   ]
  },
  {
   "cell_type": "code",
   "execution_count": 1,
   "id": "747b32dd-b4bd-4df7-9470-28071b4e9330",
   "metadata": {},
   "outputs": [],
   "source": [
    "import datetime\n",
    "import math\n",
    "import os\n",
    "import random\n",
    "import re\n",
    "import sys\n",
    "import time\n",
    "from typing import Any, Dict, List, Tuple, Union\n",
    "\n",
    "import cv2\n",
    "import imageio\n",
    "import imutils\n",
    "import matplotlib.pyplot as plt\n",
    "import numpy as np\n",
    "from imutils.video import VideoStream\n",
    "\n",
    "%matplotlib inline"
   ]
  },
  {
   "cell_type": "markdown",
   "id": "03946ab7-bf98-4754-b980-0b646968d9b5",
   "metadata": {},
   "source": [
    "## File paths"
   ]
  },
  {
   "cell_type": "markdown",
   "id": "cfefba41-f292-4e0b-939a-f63aa256aa09",
   "metadata": {},
   "source": [
    "Let's download haarcascade_frontalface_default.xml, used for face detection, if we haven't already, and set some file paths that we'll need later."
   ]
  },
  {
   "cell_type": "code",
   "execution_count": 2,
   "id": "04a0bd6a-c5d7-4f00-9e49-6dee2179c350",
   "metadata": {},
   "outputs": [],
   "source": [
    "# The Haar cascade file\n",
    "CASCADE_PATH = os.path.join(os.getcwd(), \"haarcascade_frontalface_default.xml\")\n",
    "CASCADE_URL = \"https://raw.githubusercontent.com/kipr/opencv/master/data/haarcascades/haarcascade_frontalface_default.xml\"\n",
    "if not os.path.exists(CASCADE_PATH):\n",
    "    !wget {CASCADE_URL}\n",
    "\n",
    "# Trained face data\n",
    "FACE_DATA = os.path.join(os.getcwd(), \"face_data.yml\")\n",
    "\n",
    "# Location for user images\n",
    "SAVE_PATH = os.path.join(os.getcwd(), \"user_pics\")\n",
    "\n",
    "# Filename format for user images\n",
    "PIC_FILE_TEMPLATE = \"user_{0}_pic_{1}.jpg\"\n",
    "PIC_FILE_RE = PIC_FILE_TEMPLATE.format(\"(\\d+)\", \"\\d+\")\n",
    "\n",
    "# Location of target images for gridsearch\n",
    "GRIDSEARCH_IMAGES = os.path.join(os.getcwd(), \"gridsearch_images\")\n",
    "\n",
    "# Folder for narrative images\n",
    "DEMO_IMAGES = os.path.join(os.getcwd(), \"demo_images\")"
   ]
  },
  {
   "cell_type": "markdown",
   "id": "214f5fa1-8593-4337-a740-d0f54012918d",
   "metadata": {},
   "source": [
    "## Saving Images"
   ]
  },
  {
   "cell_type": "markdown",
   "id": "7c83be65-820d-4ef5-a106-fbf4302280c5",
   "metadata": {},
   "source": [
    "These methods cover the saving of the user pics and gif recordings."
   ]
  },
  {
   "cell_type": "code",
   "execution_count": null,
   "id": "dff0b403-a2ce-4d8b-88c6-63a6e1c88b3b",
   "metadata": {},
   "outputs": [],
   "source": [
    "def get_next_user_id() -> int:\n",
    "    \"\"\"\n",
    "    Return the next available user ID (first is 1)\n",
    "    \"\"\"\n",
    "\n",
    "    next_id = 1\n",
    "    for file in sorted(os.listdir(SAVE_PATH)):\n",
    "        match = re.search(PIC_FILE_RE, file)\n",
    "        if match:\n",
    "            if int(match.groups()[0]) == next_id:\n",
    "                next_id += 1\n",
    "    return next_id\n",
    "\n",
    "\n",
    "def save_user_images(img_list: List[np.ndarray]) -> None:\n",
    "    \"\"\"\n",
    "    Save the given list of images to the save directory with a unique prefix\n",
    "    \"\"\"\n",
    "    \n",
    "    # Make sure the save directory exists\n",
    "    if not os.path.exists(SAVE_PATH):\n",
    "        os.makedirs(SAVE_PATH)\n",
    "\n",
    "    # Save the mug shots with a unique user ID\n",
    "    next_id = get_next_user_id()\n",
    "    for i, img in enumerate(img_list):\n",
    "        cv2.imwrite(os.path.join(SAVE_PATH, PIC_FILE_TEMPLATE.format(next_id, i)), img)\n",
    "\n",
    "    # Display the captured mug shots (or 10 random ones if there are more than that)\n",
    "    max_displayed_shots = 10\n",
    "    if len(img_list) > max_displayed_shots:\n",
    "        img_list = random.sample(img_list, k=max_displayed_shots)\n",
    "    rows = 2\n",
    "    cols = int(len(img_list) / rows)\n",
    "    fig = plt.figure(figsize=(10, 6))\n",
    "    for i in range(0, rows * cols):\n",
    "        img = cv2.cvtColor(img_list[i], cv2.COLOR_BGR2RGB)  # Because CV2 captures in BGR, but plt uses RGB\n",
    "        fig.add_subplot(rows, cols, i + 1)\n",
    "        plt.tick_params(left=False, labelleft=False, bottom=False, labelbottom=False)\n",
    "        plt.imshow(img)\n",
    "    plt.show()\n",
    "    plt.close()\n",
    "\n",
    "\n",
    "def save_gif(frames: List[np.ndarray],\n",
    "             name: str) -> None:\n",
    "    \"\"\"\n",
    "    Shrink and colour correct the frames before saving them as a gif\n",
    "    \"\"\"\n",
    "    \n",
    "    resized_frames = [imutils.resize(frame, width=300) for frame in frames]\n",
    "    corrected_frames = [cv2.cvtColor(frame, cv2.COLOR_BGR2RGB) for frame in resized_frames]\n",
    "    imageio.mimwrite(name, corrected_frames, fps=30, loop=0)"
   ]
  },
  {
   "cell_type": "markdown",
   "id": "35be7cd0-5073-48c1-b543-3e7dbf21f7bf",
   "metadata": {},
   "source": [
    "# Video Capture"
   ]
  },
  {
   "cell_type": "code",
   "execution_count": null,
   "id": "53d48e9c-c473-4476-8803-06772b63f3ff",
   "metadata": {},
   "outputs": [],
   "source": [
    "# How many mug shots to take\n",
    "MAX_SHOTS = 10\n",
    "\n",
    "# Random value in [0, 1) must be greater than this to capture mug shot\n",
    "CAPTURE_THRESHOLD = 0.9\n",
    "\n",
    "# How big to resize the frame\n",
    "FRAME_WIDTH = 600\n",
    "\n",
    "# To colour the frame around the face\n",
    "USER_COLOURS = [(255, 128, 255), (255, 255, 0)]\n",
    "\n",
    "# The capture loop acts differently depending on the mode\n",
    "MODE_WAITING = 0\n",
    "MODE_LEFT_RIGHT = 1\n",
    "MODE_UP_DOWN = 2\n",
    "MODE_AUTHENTICATING = 3\n",
    "\n",
    "# These are used to instruct the user when registering\n",
    "MESSAGES = [\"Press S when ready to begin\",\n",
    "            \"Move your head left and right\",\n",
    "            \"Move your head up and down\",\n",
    "            \"\"]\n",
    "\n",
    "def add_text(frame: np.ndarray,\n",
    "             message: str) -> None:\n",
    "    \"\"\"\n",
    "    Add the message at bottom centre of the frame\n",
    "    \"\"\"\n",
    "    \n",
    "    # Text Options\n",
    "    font = cv2.FONT_HERSHEY_SIMPLEX\n",
    "    scale = 1\n",
    "    thickness = 2\n",
    "    colour = (255, 255, 255)\n",
    "\n",
    "    # Find the bottom centre of the frame\n",
    "    text_size = cv2.getTextSize(message, font, scale, thickness)[0]\n",
    "    x_pos = int((frame.shape[1] - text_size[0]) / 2)\n",
    "    y_pos = frame.shape[0] - 20\n",
    "\n",
    "    # Add the text\n",
    "    cv2.putText(frame, message, (x_pos, y_pos), font, scale, colour, thickness)\n",
    "\n",
    "\n",
    "def capture_frame(stream: VideoStream,\n",
    "                  cascade: cv2.CascadeClassifier) -> (np.ndarray, np.ndarray, Tuple[np.ndarray]):\n",
    "    \"\"\"\n",
    "    Get the next frame from the stream, mirror it, resize it, and convert it to greyscale\n",
    "    Find the faces in the frame\n",
    "    Return frame, grayscale version, and bounding boxes of faces\n",
    "    \"\"\"\n",
    "\n",
    "    frame = cv2.flip(stream.read(), 1)\n",
    "    frame = imutils.resize(frame, width=FRAME_WIDTH)\n",
    "    gray_frame = cv2.cvtColor(frame, cv2.COLOR_BGR2GRAY)\n",
    "\n",
    "    faces = cascade.detectMultiScale(\n",
    "        gray_frame,     \n",
    "        scaleFactor=1.2,\n",
    "        minNeighbors=5,     \n",
    "        minSize=(100, 100)\n",
    "    )\n",
    "\n",
    "    return frame, gray_frame, faces\n",
    "\n",
    "\n",
    "def get_mug_shot(frame: np.ndarray,\n",
    "                 gray_frame: np.ndarray,\n",
    "                 face: Tuple[int]) -> Union[np.array, None]:\n",
    "    \"\"\"\n",
    "    Draw a rectangle around the face in the frame.\n",
    "    With some probability, capture and return this mug shot\n",
    "    \"\"\"\n",
    "\n",
    "    # Unpack the bounding box\n",
    "    x_pos, y_pos, width, height = face\n",
    "\n",
    "    # Draw a rectangle around the face.\n",
    "    frame = cv2.rectangle(frame, (x_pos, y_pos), (x_pos + width, y_pos + height), (255, 255, 255), 2)\n",
    "\n",
    "    # If the threshold is passed, capture the mug shot\n",
    "    if np.random.random() > CAPTURE_THRESHOLD:\n",
    "        return gray_frame[y_pos:y_pos + height, x_pos:x_pos + width]\n",
    "\n",
    "    return None\n",
    "\n",
    "\n",
    "def main(current_mode: int,\n",
    "         recognizer: cv2.face.LBPHFaceRecognizer = None) -> None:\n",
    "    \"\"\"\n",
    "    MODE_WAITING:                  Detect faces and draw bounding boxes\n",
    "    MODE_UP_DOWN|MODE_LEFT_RIGHT:  Sample mug shots if single face detected\n",
    "    MODE_AUTHENTICATING:           Detect faces and predict label/confidence\n",
    "    \"\"\"\n",
    "\n",
    "    # Initialise the webcam\n",
    "    stream = VideoStream(src=0, framerate=30).start()\n",
    "\n",
    "    # Initialise the classifier for detecting faces\n",
    "    cascade = cv2.CascadeClassifier(CASCADE_PATH)\n",
    "\n",
    "    # Set the frame title by mode\n",
    "    # Initialise a list for the mug shots\n",
    "    if current_mode == MODE_WAITING:\n",
    "        mug_shots = []\n",
    "        frame_title = \"Register New User\"\n",
    "    elif current_mode == MODE_AUTHENTICATING:\n",
    "        frame_title = \"Authenticate User\"\n",
    "\n",
    "    # Keep a list of frames for a gif\n",
    "    all_frames = []\n",
    "\n",
    "    # Whether to save frames to produce a gif\n",
    "    recording = red_circle = False\n",
    "\n",
    "    while True:\n",
    "        # Capture the frame, a gray scale version, and anhy faces in it\n",
    "        frame, gray_frame, faces = capture_frame(stream, cascade)\n",
    "\n",
    "        # Waiting to begin capturing new user images; put a bounding box around all faces\n",
    "        if current_mode == MODE_WAITING:\n",
    "            for (x_pos, y_pos, width, height) in faces:\n",
    "                frame = cv2.rectangle(frame, (x_pos, y_pos), (x_pos + width, y_pos + height), (255, 255, 255), 2)\n",
    "\n",
    "        # In capture mode (LEFT_RIGHT|UP_DOWN) and only 1 face\n",
    "        elif current_mode <= MODE_UP_DOWN and len(faces) == 1:\n",
    "            # Add the mug shot (if one is captured) to the list; check for switching to next mode/finishing\n",
    "            mug_shot = get_mug_shot(frame, gray_frame, faces[0])\n",
    "            if mug_shot is not None:\n",
    "                mug_shots.append(mug_shot)\n",
    "                if len(mug_shots) == int(MAX_SHOTS / 2):\n",
    "                    current_mode = MODE_UP_DOWN\n",
    "                elif len(mug_shots) == MAX_SHOTS:\n",
    "                    save_user_images(mug_shots)\n",
    "                    break\n",
    "\n",
    "        # Trying to recognize known users\n",
    "        elif current_mode == MODE_AUTHENTICATING:\n",
    "            for (x_pos, y_pos, width, height) in faces:\n",
    "                # Predict a label and confidence for each face detected\n",
    "                label, confidence = recognizer.predict(gray_frame[y_pos:y_pos + height, x_pos:x_pos + width])\n",
    "\n",
    "                colour = USER_COLOURS[label - 1]\n",
    "\n",
    "                # Draw a rectangle around this face with the predicted label/unknown and confidence\n",
    "                frame = cv2.rectangle(frame, (x_pos, y_pos), (x_pos + width, y_pos + height), colour, 2)\n",
    "                cv2.putText(frame,\n",
    "                            f\"User {label} ({confidence})\",\n",
    "                            (x_pos + 5, y_pos + height + 20),\n",
    "                            cv2.FONT_HERSHEY_SIMPLEX, 0.7, colour, 2)\n",
    "\n",
    "        # Add appropriate message to the frame\n",
    "        add_text(frame, MESSAGES[current_mode])\n",
    "\n",
    "        # If recording is True, add a blinking red circle to the top right and keep the frame\n",
    "        if recording:\n",
    "            # Blinking red circle\n",
    "            if len(all_frames) % 30 == 0:\n",
    "                red_circle = not red_circle\n",
    "            if red_circle:\n",
    "                all_frames.append(np.copy(frame))  # Save a copy without the red circle\n",
    "                cv2.circle(frame, (FRAME_WIDTH - 20, 20), 10, (0, 0, 255), -1)\n",
    "            else:\n",
    "                all_frames.append(frame)\n",
    "\n",
    "        # Display the frame\n",
    "        cv2.imshow(frame_title, frame)\n",
    "\n",
    "        # Check for a key press\n",
    "        key = cv2.waitKey(1) & 0xFF\n",
    "\n",
    "        # User is ready and presses 's'\n",
    "        if current_mode == MODE_WAITING and key == ord(\"s\"):\n",
    "            current_mode = MODE_LEFT_RIGHT\n",
    "\n",
    "        # Save a screen grab of the frame named for the current time\n",
    "        elif key == ord(\"p\"):\n",
    "            name = f\"{datetime.datetime.now().time().strftime('%H_%M_%S')}.jpg\"\n",
    "            cv2.imwrite(os.path.join(os.getcwd(), name), frame)\n",
    "\n",
    "        # Start/stop recording\n",
    "        elif key == ord(\"r\"):\n",
    "            recording = not recording\n",
    "            red_circle = recording\n",
    "\n",
    "        # Quit\n",
    "        elif key == ord(\"q\"):\n",
    "            break\n",
    "\n",
    "    # Tidy up CV2 and the VideoStream\n",
    "    cv2.destroyAllWindows()\n",
    "    stream.stop()\n",
    "\n",
    "    # If frames have been recorded, save them as a gif\n",
    "    if len(all_frames) > 0:\n",
    "        gif_path = os.path.join(os.getcwd(), \"recording.gif\")\n",
    "        save_gif(all_frames, gif_path)\n",
    "\n",
    "\n",
    "def register_user() -> None:\n",
    "    \"\"\"\n",
    "    Convenience wrapper for adding a user\n",
    "    \"\"\"\n",
    "    main(MODE_WAITING)\n",
    "\n",
    "\n",
    "def authenticate_user(recognizer: cv2.face.LBPHFaceRecognizer) -> None:\n",
    "    \"\"\"\n",
    "    Convenience wrapper for starting facial recognition\n",
    "    \"\"\"\n",
    "    main(MODE_AUTHENTICATING, recognizer=recognizer)"
   ]
  },
  {
   "cell_type": "markdown",
   "id": "61e18cd1-70dd-4382-952e-35c6a6dee3d5",
   "metadata": {},
   "source": [
    "# Face Detection"
   ]
  },
  {
   "cell_type": "markdown",
   "id": "f3cee3dd-9311-4969-a068-51bcdf34bb07",
   "metadata": {},
   "source": [
    "## Haar Cascade Classifier\n",
    "<p>\n",
    "    OpenCV provides a pre-trained model, <a href=\"https://github.com/kipr/opencv/blob/master/data/haarcascades/haarcascade_frontalface_default.xml\">haarcascade_frontalface_default.xml</a>, for use with <a href=\"https://docs.opencv.org/4.8.0/db/d28/tutorial_cascade_classifier.html\">cv2.CascadeClassifier</a>.\n",
    "    The Haar Cascade was proposed by Paul Viola and Michael Jones in their 2001 paper <a href=\"https://www.khoury.northeastern.edu/home/vip/teach/DMcourse/3_dim_reduction/notes_slides/viola-cvpr-01.pdf\">Rapid Object Detection using a Boosted Cascade of Simple Features</a>. There's an excellent explanation in <a href=\"https://medium.com/analytics-vidhya/haar-cascades-explained-38210e57970d\">this</a> article, but to summarise, the technique computes <a href=\"https://en.wikipedia.org/wiki/Haar-like_feature\">Haar features</a> over an <a href=\"https://en.wikipedia.org/wiki/Summed-area_table\">integral image</a>, and uses a modified <a href=\"https://en.wikipedia.org/wiki/AdaBoost\">AdaBoost</a> create a series of cascading classifiers. At each stage of the cascade, if a region is determined not to contain an object, it does not progress to the next stage. This is a type of attentional mechanism to make the algotithm focus on the regions most likely to contain a face.\n",
    "</p>"
   ]
  },
  {
   "cell_type": "markdown",
   "id": "4c9cd277-5fdf-4a7c-a53b-1abc019647bc",
   "metadata": {},
   "source": [
    "<p>\n",
    "    The <em>register_user()</em> method in the next cell starts the video capture, with an example in this gif. The face detected by the Haar Cascade is surrounded with a bounding box, and mug shots are taken randomly to get a variety of angles.<br/>\n",
    "    <img src=\"demo_images/register_demo.gif\" />\n",
    "    \n",
    "</p>\n",
    "<p>\n",
    "    Here are a sample of the captured images which will be used to train the recognizer.\n",
    "    <img src=\"demo_images/mug_shot_samples.png\" />\n",
    "</p>"
   ]
  },
  {
   "cell_type": "code",
   "execution_count": null,
   "id": "deec9af3-2ccc-4fc3-9b4d-ecd3c517cf7b",
   "metadata": {},
   "outputs": [],
   "source": [
    "register_user()"
   ]
  },
  {
   "cell_type": "markdown",
   "id": "037d44f4-9e22-4459-b8e3-185eca49c711",
   "metadata": {},
   "source": [
    "# Facial Recognition"
   ]
  },
  {
   "cell_type": "markdown",
   "id": "0dc39fc5-2437-42d7-a0d4-5ccce552f7af",
   "metadata": {},
   "source": [
    "## Local Binary Pattern Histogram (LBPH)\n",
    "\n",
    "<p>\n",
    "Fuller explanations are found in <a href=\"http://www.scholarpedia.org/article/Local_Binary_Patterns\">this</a> article and <a href=\"https://towardsdatascience.com/face-recognition-how-lbph-works-90ec258c3d6b\">this</a>, but briefly, LBPH captures the unique texture of a person's face by breaking down the image into smaller regions and analyzing the patterns within those regions. These patterns, represented as binary values, are then used to construct a histogram for each face in a training dataset. When it comes to recognizing a face, LBPH computes the histogram for a test image and compares it to the histograms of known faces. LBPH is robust enough to handle variations in lighting, facial expressions, and minor changes in pose.\n",
    "</p>\n",
    "\n",
    "<p>\n",
    "OpenCV implements LPBH as <a href=\"https://docs.opencv.org/4.8.0/df/d25/classcv_1_1face_1_1LBPHFaceRecognizer.html\">cv2.face.LBPHFaceRecognizer</a> whose <a href=\"https://docs.opencv.org/4.8.0/df/d25/classcv_1_1face_1_1LBPHFaceRecognizer.html#ac33ba992b16f29f2824761cea5cd5fc5\">parameters</a> are listed below. Let's keep these at the default values for now.\n",
    "\n",
    "| Name       | Purpose |\n",
    "| --------   | ------- |\n",
    "| radius     | the radius around the central pixel |\n",
    "| neighbours | the number of sample points |\n",
    "| grid_x     | the number of features horizontally |\n",
    "| grid_y     | the number of features vertically |\n",
    "| threshold  | the confidence cutoff for recognition |\n",
    "\n",
    "</p>"
   ]
  },
  {
   "cell_type": "code",
   "execution_count": 3,
   "id": "4c9e6428-f41d-40fd-a1e2-173221490b06",
   "metadata": {},
   "outputs": [],
   "source": [
    "def create_recognizer(face_data_path: str = None,\n",
    "                     radius:int = 1,\n",
    "                     neighbours:int = 8,\n",
    "                     grid_xy:int = 8,\n",
    "                     threshold:float = sys.float_info.max) -> cv2.face.LBPHFaceRecognizer:\n",
    "    \"\"\"\n",
    "    Return a new LBPHFaceRecognizer.\n",
    "    If a path for data is given, load it\n",
    "    \"\"\"\n",
    "\n",
    "    recognizer = cv2.face.LBPHFaceRecognizer_create(radius=radius,\n",
    "                                                   neighbors=neighbours,\n",
    "                                                   grid_x=grid_xy,\n",
    "                                                   grid_y=grid_xy)\n",
    "    if face_data_path:\n",
    "        recognizer.read(face_data_path)\n",
    "    return recognizer"
   ]
  },
  {
   "cell_type": "markdown",
   "id": "e0efe3bb-fe6f-4ab7-9e6c-0756375cbef9",
   "metadata": {},
   "source": [
    "## Training\n",
    "\n",
    "<p>\n",
    "The mug shots saved in the earlier step are loaded and the integer label extracted from the filename. The <a href=\"https://docs.opencv.org/4.8.0/dd/d65/classcv_1_1face_1_1FaceRecognizer.html#ac8680c2aa9649ad3f55e27761165c0d6\"><i>train()</i></a> method (inherited from <a href=\"https://docs.opencv.org/4.8.0/dd/d65/classcv_1_1face_1_1FaceRecognizer.html\">cv2.face.FaceRecognizer</a>) accepts the mug shots taken earlier to compute the LBPHs and creates a YAML file containing the histograms and the labels.\n",
    "\n",
    "</p>"
   ]
  },
  {
   "cell_type": "code",
   "execution_count": null,
   "id": "f9640e35-d332-42fb-84f9-28ddc2a1d272",
   "metadata": {},
   "outputs": [],
   "source": [
    "def load_users() -> (List[np.array], np.array):\n",
    "    \"\"\"\n",
    "    Return the user images and labels\n",
    "    \"\"\"\n",
    "\n",
    "    faces = []\n",
    "    labels = []\n",
    "\n",
    "    for file in sorted(os.listdir(SAVE_PATH)):\n",
    "        match = re.search(PIC_FILE_RE, file)\n",
    "        if match:\n",
    "            # Read in grayscale image and convert to numpy array\n",
    "            img = cv2.imread(os.path.join(SAVE_PATH, file), cv2.IMREAD_GRAYSCALE)\n",
    "            img_numpy = np.array(img, \"uint8\")\n",
    "            faces.append(img_numpy)\n",
    "\n",
    "            # Get the ID of the user from the filename\n",
    "            u_id = int(match.groups()[0])\n",
    "            labels.append(u_id)\n",
    "\n",
    "    return faces, np.array(labels)\n",
    "\n",
    "\n",
    "# Load the user images and labels\n",
    "faces, labels = load_users()\n",
    "\n",
    "# Create and train the recognizer\n",
    "recognizer = create_recognizer(radius=2, neighbours=2, grid_xy=2)\n",
    "recognizer.train(faces, labels)\n",
    "\n",
    "# Write the recognizer data to file\n",
    "recognizer.write(FACE_DATA)"
   ]
  },
  {
   "cell_type": "markdown",
   "id": "5f8123a0-83de-46ad-b060-0c9d8be4907a",
   "metadata": {},
   "source": [
    "### YAML\n",
    "\n",
    "<p>\n",
    "The start and end of the yaml file contain some metadata, and between the two, a list of numpy arrays. The following is from a single training image.\n",
    "</p>"
   ]
  },
  {
   "cell_type": "code",
   "execution_count": 4,
   "id": "95651454-3d19-4aa6-a2fa-d3316c398844",
   "metadata": {},
   "outputs": [
    {
     "name": "stdout",
     "output_type": "stream",
     "text": [
      "%YAML:1.0\n",
      "---\n",
      "opencv_lbphfaces:\n",
      "   threshold: 1.7976931348623157e+308\n",
      "   radius: 2\n",
      "   neighbors: 2\n",
      "   grid_x: 2\n",
      "   grid_y: 2\n",
      "   histograms:\n",
      "      - !!opencv-matrix\n",
      "         rows: 1\n",
      "         cols: 16\n",
      "         dt: f\n",
      "         data: [ 1.30569771e-01, 4.15266633e-01, 2.41417095e-01,\n",
      "             2.12746546e-01, 1.24360852e-01, 3.46603364e-01,\n"
     ]
    }
   ],
   "source": [
    "!head -n 15 {FACE_DATA}"
   ]
  },
  {
   "cell_type": "code",
   "execution_count": 5,
   "id": "e441ee94-4a15-4b80-810f-11d756294f42",
   "metadata": {},
   "outputs": [
    {
     "name": "stdout",
     "output_type": "stream",
     "text": [
      "             3.90955657e-01, 2.92715520e-01, 1.81554914e-01,\n",
      "             1.57718867e-01, 3.40833127e-01, 2.87369102e-01,\n",
      "             2.14078858e-01 ]\n",
      "   labels: !!opencv-matrix\n",
      "      rows: 2\n",
      "      cols: 1\n",
      "      dt: i\n",
      "      data: [ 1, 2 ]\n",
      "   labelsInfo:\n",
      "      []\n"
     ]
    }
   ],
   "source": [
    "!tail -n 10 {FACE_DATA}"
   ]
  },
  {
   "cell_type": "markdown",
   "id": "15135ac5-303e-4fb9-bf1c-df9204b83a97",
   "metadata": {},
   "source": [
    "## Authenticating\n",
    "<p>\n",
    "This step loads the previously computed LBPH and compares them to faces detected in the webcam. The gif shows the face detected and recognized as User 1 with a confidence level around 40 (0 would a perfect match).\n",
    "</p>\n",
    "\n",
    "<p>\n",
    "    <center>\n",
    "        <img src=\"demo_images/single_direct.gif\" width=\"300\" height=\"auto\" style=\"display: inline\"/>\n",
    "    </center>\n",
    "</p>"
   ]
  },
  {
   "cell_type": "code",
   "execution_count": null,
   "id": "c9cb5d50-9af8-4721-be1a-4bb36ecad900",
   "metadata": {},
   "outputs": [],
   "source": [
    "# Create the recognizer with the computed histograms\n",
    "# No need to pass radius, etc, as these are loaded from the yaml\n",
    "recognizer = create_recognizer(FACE_DATA)\n",
    "\n",
    "authenticate_user(recognizer)"
   ]
  },
  {
   "cell_type": "markdown",
   "id": "5eced7e1-4b8c-419e-b2de-c35c825f548c",
   "metadata": {},
   "source": [
    "# Experiments"
   ]
  },
  {
   "cell_type": "markdown",
   "id": "83ad093f-f643-4413-a19b-511dc6a2bbdd",
   "metadata": {},
   "source": [
    "## Single vs Mulitple Input Images\n",
    "\n",
    "<p>\n",
    "There are two models here - the Single Input Image Model (SIIM) and the Multiple Input Image Model (MIIM)\n",
    "Here is a side by side comparison of the model's confidence when a single frontal image has been used (User 1) versus multiple images from various angles (User 2).</p>\n",
    "\n",
    "<p>\n",
    "The confidence is about the same when the user looks head-on, because both models have a head-on mug shot of the user. However, as the user moves left/right/up/down, there is a difference of between the two models. The single input model now demonstrates the robustness to pose mentioned above, but of course is less confident of its prediction, while the MIIM has seen examples much closer to the target pose and is more confident. The MIIM is still less confident about the left/right/up poses because the LBPH depends on certain characteristics of the face, including its symmetry. As the face moves, this symmetry is broken so the confidence goes down, while still being better than the SIM extrapolating from a single image.\n",
    "</p>\n",
    "\n",
    "<p> Finally, the down pose of the MIM shows a better confidence than even the head-on shot. This bounding box is cropped much more tightly to the face, removing extraneous information, and the glare on the forehead and side of face seen in the other images is almost entirely gone thanks to this angle, making the prediction much easier.\n",
    "</p>\n",
    "\n",
    "<table>\n",
    "    <tr align=\"center\">\n",
    "        <td><img src=\"demo_images/single_input.jpg\" width=\"100\" height=\"auto\" style=\"display: inline\" /></td>\n",
    "        <td><img src=\"demo_images/mug_shot_samples.png\" width=\"400\" height=\"auto\" style=\"display: inline\" /></td>\n",
    "    </tr>\n",
    "    <tr><th>Single Input Image</th><th>Mulitple Input Images</th></tr>\n",
    "    <tr>\n",
    "        <td><img src=\"demo_images/single_direct.jpg\" width=\"400\" height=\"auto\" style=\"display: inline\"/></td>\n",
    "        <td><img src=\"demo_images/multiple_direct.jpg\" width=\"400\" height=\"auto\" style=\"display: inline\"/></td>\n",
    "    </tr>\n",
    "    <tr>\n",
    "        <td><img src=\"demo_images/single_left.jpg\" width=\"400\" height=\"auto\" style=\"display: inline\"/></td>\n",
    "        <td><img src=\"demo_images/multiple_left.jpg\" width=\"400\" height=\"auto\" style=\"display: inline\"/></td>\n",
    "    </tr>\n",
    "    <tr>\n",
    "        <td><img src=\"demo_images/single_right.jpg\" width=\"400\" height=\"auto\" style=\"display: inline\" /></td>\n",
    "        <td><img src=\"demo_images/multiple_right.jpg\" width=\"400\" height=\"auto\" style=\"display: inline\" /></td>\n",
    "    </tr>\n",
    "    <tr>\n",
    "        <td><img src=\"demo_images/single_up.jpg\" width=\"400\" height=\"auto\" style=\"display: inline\" /></td>\n",
    "        <td><img src=\"demo_images/multiple_up.jpg\" width=\"400\" height=\"auto\" style=\"display: inline\" /></td>\n",
    "    </tr>\n",
    "    <tr>\n",
    "        <td><img src=\"demo_images/single_down.jpg\" width=\"400\" height=\"auto\" style=\"display: inline\" /></td>\n",
    "        <td><img src=\"demo_images/multiple_down.jpg\" width=\"400\" height=\"auto\" style=\"display: inline\" /></td>\n",
    "    </tr>\n",
    "</table>"
   ]
  },
  {
   "cell_type": "markdown",
   "id": "13434513-7757-4e18-98b4-1f5bac1f0c34",
   "metadata": {},
   "source": [
    "## Other Users\n",
    "\n",
    "<p>\n",
    "The confidence here is not as high as the previous section. Both users have a single mug shot taken head-on to the camera, but the recognition takes place from off-centre. This change in lighting (more glare on the left, less on the right) and angle reduces the confidence somewhat. \n",
    "</p>\n",
    "\n",
    "<table>\n",
    "    <tr>\n",
    "        <td>\n",
    "            <img src=\"demo_images/mug_shot_darrell.jpg\" width=\"139\" height=\"auto\" style=\"display: inline\" /><br/>\n",
    "            <img src=\"demo_images/single_input.jpg\" width=\"139\" height=\"auto\" style=\"display: inline\" />\n",
    "        </td>\n",
    "        <td>\n",
    "            <img src=\"demo_images/two_users.jpg\" width=\"500\" height=\"auto\" />\n",
    "        </td>\n",
    "    </tr>\n",
    "</table>\n",
    "\n",
    "<p>\n",
    "Thanks to Darrell for helping with this section.\n",
    "</p>"
   ]
  },
  {
   "cell_type": "markdown",
   "id": "855a920a-bc66-4343-945f-da05b7254b0d",
   "metadata": {},
   "source": [
    "## Photos\n",
    "When presented with a photo on a phone, the LBPHFaceRecognizer is less confident but still recognises User 1, although this is at least partly due to the lighting and glare from the phone. High quality photos have been known to <a href=\"https://www.theregister.com/2019/01/04/photos_trick_smartphones/\">fool phones with face unlock</a>. However, it also mistakenly recognises a picture of Tom Hanks as User 1 with not much of a drop in confidence. \n",
    "<p>\n",
    "    <center>\n",
    "        <img src=\"demo_images/photo_user.jpg\" width=\"400\" height=\"auto\" style=\"display: inline\" />\n",
    "        <img src=\"demo_images/photo_tom_hanks.jpg\" width=\"400\" height=\"auto\" style=\"display: inline\" />\n",
    "    </center>\n",
    "</p\n",
    "<p>\n",
    "Image of Tom Hanks from <a href=\"https://www.cleveland.com/tv/2010/02/backstage_with_tom_hanks_inter.html\">Cleveland.com</a></p>"
   ]
  },
  {
   "cell_type": "markdown",
   "id": "191c34f7-e510-4a72-ae21-ecf59377b38c",
   "metadata": {},
   "source": [
    "## Grid Search\n",
    "\n",
    "<p>\n",
    "The best parameters for cv2.face.LBPHFaceRecognizer will depend on the intended usage particulars such as camera resolution, lighting, etc. Let's examine some combinations with a grdisearch, using the values <em><strong>P</strong>={1, 2, 4, 6, 8, 10, 12, 14, 16}</em> for radius, neighbours, and grid_x/grid_y (keeping grid_x = grid_y), for a total of 8^3=512 models.\n",
    "</p>\n",
    "\n",
    "<p>\n",
    "For each parameter combination of <em>(radius, neighbours, grid)</em>, we get the average confidence for identifying a single input image as each of 100 mugshots of user Steve at various angles (a sample of which are shown here).\n",
    "</p>\n",
    "\n",
    "<p>\n",
    "    <img src=\"demo_images/mug_shot_samples.png\" width=\"500\" height=\"auto\" />\n",
    "</p>\n",
    "\n",
    "<p>\n",
    "<strong>Note:</strong> A lower score is better (remember that a perfect match is 0), but because it's more intuitive to have better scores visually higher, plots are drawn with the y-axis inverted. When saying that one score is \"higher\" than another, we mean \"better\" rather than mathematically \"greater than\".\n",
    "</p>"
   ]
  },
  {
   "cell_type": "code",
   "execution_count": 6,
   "id": "553abafb-6edc-4469-8a4d-5a88de0f66e9",
   "metadata": {},
   "outputs": [],
   "source": [
    "def gridsearch(face: List[np.array],\n",
    "               label: np.array,\n",
    "               gs_values: List[int]) -> Dict[Tuple[int, int, int], float]:\n",
    "    \"\"\"\n",
    "    Execute a gridsearch with the given face and parameters values\n",
    "    \"\"\"\n",
    "\n",
    "    # Load 100 images facing random directions\n",
    "    test_images = [cv2.imread(os.path.join(GRIDSEARCH_IMAGES, f\"gridsearch_{i}.jpg\"), cv2.IMREAD_GRAYSCALE) for i in range(100)]\n",
    "\n",
    "    results = dict()\n",
    "    for r in gs_values:\n",
    "        for n in gs_values:\n",
    "            for g in gs_values:\n",
    "                # Create recognizer for this tuple of (radius, neighbours, grid)\n",
    "                recognizer = create_recognizer(radius=r, neighbours=n, grid_xy=g)\n",
    "                recognizer.train(face, label)\n",
    "\n",
    "                # Get average prediction confidence\n",
    "                confs = 0.0\n",
    "                for img in test_images:\n",
    "                    _, confidence = recognizer.predict(img)\n",
    "                    confs += confidence\n",
    "                avg_confidence = confs / len(test_images)\n",
    "                results[(r, n, g)] = avg_confidence\n",
    "    return results\n",
    "\n",
    "\n",
    "def load_single_user(filename: str) -> (List[np.array], np.array):\n",
    "    \"\"\"\n",
    "    Return a single mugshot from the demo_images folder as a numpy array, with label=1\n",
    "    \"\"\"\n",
    "    filepath = os.path.join(DEMO_IMAGES, filename)\n",
    "    img = cv2.imread(filepath, cv2.IMREAD_GRAYSCALE)\n",
    "    img_numpy = np.array(img, \"uint8\")\n",
    "\n",
    "    return [img_numpy], np.array([1])\n",
    "\n",
    "\n",
    "def plot_confs(steve: List[float],\n",
    "               darrell: List[float],\n",
    "               limit: int) -> None:\n",
    "    \"\"\"\n",
    "    Plot the two given lists of floats up to limit\n",
    "    \"\"\"\n",
    "    plt.plot(steve[:limit], label=\"Steve\")\n",
    "    plt.plot(darrell[:limit], label=\"Darrell\")\n",
    "    plt.ylabel(\"Confidence\")\n",
    "    plt.legend()\n",
    "    plt.gca().invert_yaxis()\n",
    "    plt.title(\"Average Confidences\")\n",
    "\n",
    "\n",
    "def plot_stats(stats: List[List[float]],\n",
    "               values: List[int],\n",
    "               title: str) -> None:\n",
    "    \"\"\"\n",
    "    Box plot the given stats\n",
    "    \"\"\"\n",
    "    plt.boxplot(stats)\n",
    "    plt.xticks([tick for tick in range(1, len(values) + 1)], values)\n",
    "    plt.xlabel(r\"p $\\in$ P\")\n",
    "    plt.ylabel(\"Confidence\")\n",
    "    plt.gca().invert_yaxis()\n",
    "    plt.title(title)"
   ]
  },
  {
   "cell_type": "markdown",
   "id": "41b1fd64-c731-41da-950e-3592a1165a69",
   "metadata": {},
   "source": [
    "### Best Result\n",
    "<p>\n",
    "We have two test users, Steve and Darrell, who look quite similar, and we find that the best confidence is for Darrell!\n",
    "</p>\n",
    "\n",
    "<p>\n",
    "<center>\n",
    "    <figure style=\"display: inline-block\">\n",
    "        <img src=\"demo_images/single_input.jpg\" width=\"125\" height=\"auto\" />\n",
    "        <figcaption>Steve</figcaption>\n",
    "    </figure>\n",
    "    <figure style=\"display: inline-block\">\n",
    "        <img src=\"demo_images/mug_shot_darrell.jpg\" width=\"125\" height=\"auto\" />\n",
    "        <figcaption>Darrell</figcaption>\n",
    "    </figure>\n",
    "</center>\n",
    "</p>\n"
   ]
  },
  {
   "cell_type": "code",
   "execution_count": 7,
   "id": "cdc0bcfb-5de6-4ef9-b66f-6778e0db4753",
   "metadata": {},
   "outputs": [
    {
     "name": "stdout",
     "output_type": "stream",
     "text": [
      "Best result for Steve:   (4, 1, 1) 0.0008739488314728171\n",
      "Best result for Darrell: (1, 1, 1) 0.0006624874150535598\n"
     ]
    }
   ],
   "source": [
    "def get_best(results: Dict[Tuple[int, int, int], float]) -> Tuple[Tuple[int, int, int], float]:\n",
    "    \"\"\"\n",
    "    Return the best (r, n, g) and it's confidence\n",
    "    \"\"\"\n",
    "    best_key = None\n",
    "    best_val = sys.float_info.max\n",
    "    for key, val in results.items():\n",
    "        if val < best_val:\n",
    "            best_key = key\n",
    "            best_val = val\n",
    "            \n",
    "    return best_key, best_val\n",
    "\n",
    "\n",
    "# The gridsearch parameter values (used for radius, neighbour, and grid)\n",
    "gs_values = [1, 2, 4, 8, 10, 12, 14, 16]\n",
    "\n",
    "# Run the gridsearch for Steve and show best result\n",
    "face_steve, label_steve = load_single_user(\"single_input.jpg\")\n",
    "results_steve = gridsearch(face_steve, label_steve, gs_values)\n",
    "best_key_steve, best_val_steve = get_best(results_steve)\n",
    "print(f\"Best result for Steve:   {best_key_steve} {best_val_steve}\")\n",
    "\n",
    "# Run the gridsearch for Darrell and show best result\n",
    "face_darrell, label_darrell = load_single_user(\"mug_shot_darrell.jpg\")\n",
    "results_darrell = gridsearch(face_darrell, label_darrell, gs_values)\n",
    "best_key_darrell, best_val_darrell = get_best(results_darrell)\n",
    "print(f\"Best result for Darrell: {best_key_darrell} {best_val_darrell}\")"
   ]
  },
  {
   "cell_type": "markdown",
   "id": "b1f07b31-a86e-4e74-af41-1e68415fab0a",
   "metadata": {},
   "source": [
    "### Averages\n",
    "<p>\n",
    "Let's look at the results more closely. The left-hand plot shows the 25 best confidences for Steve and Darrell, while the right-hand plot shows the larger picture of all 512 average confidences. \n",
    "</p>\n",
    "\n",
    "<p>\n",
    "As seen above, the best score is for Darrell, despite the target images all being of Steve. After this, scores for Darrell are worse, but not by a large amount.\n",
    "</p>"
   ]
  },
  {
   "cell_type": "code",
   "execution_count": 8,
   "id": "036855ce-a2db-4f57-99ff-b8b23073bb77",
   "metadata": {},
   "outputs": [
    {
     "data": {
      "image/png": "[encoded data removed]",
      "text/plain": [
       "<Figure size 1200x400 with 2 Axes>"
      ]
     },
     "metadata": {},
     "output_type": "display_data"
    }
   ],
   "source": [
    "# Sort and plot the confidences\n",
    "confs_steve = sorted([val for _, val in results_steve.items()])\n",
    "confs_darrell = sorted([val for _, val in results_darrell.items()])\n",
    "\n",
    "plt.figure(figsize=(12, 4))\n",
    "for idx, limit in enumerate([25, -1]):\n",
    "    plt.subplot(1, 2, idx + 1)\n",
    "    plot_confs(confs_steve, confs_darrell, limit)\n",
    "plt.show()"
   ]
  },
  {
   "cell_type": "markdown",
   "id": "8e301444-7d67-49f0-8d08-15b1bfe2d410",
   "metadata": {},
   "source": [
    "### Parameters\n",
    "\n",
    "<p>\n",
    "For each user and for each parameter, we create a box-and-whisker plot for each <em>p&isin; <strong>P</strong></em>.\n",
    "</p>\n",
    "\n",
    "<p>\n",
    "Comparing the results for Steve versus Darrell, the plots have very similar profiles. The main difference is that the results for Darrell are more spread out, and they have fewer outliers because worse scores are to be expected when identifying the wrong person.\n",
    "</p>\n",
    "\n",
    "<p>\n",
    "Focusing on the results for Steve, the parameter with the least impact is <em>radius</em>. Although <em>radius=1</em> has the best scores, once you get to <em>radius>2</em>, there's little change in results. More impactful is <em>neighbours</em>; the best scores are at <em>neighbours=1</em>, and the spread increases quickly as <em>neighbours</em> grows. The parameter with the greatest impact is <em>grid</em>, with the spread of scores worsening rapidly as <em>grid</em> increases.\n",
    "</p>"
   ]
  },
  {
   "cell_type": "code",
   "execution_count": 9,
   "id": "7b5d0af9-1ef9-4768-9216-655e6acd06f0",
   "metadata": {},
   "outputs": [
    {
     "data": {
      "image/png": "[encoded data removed]",
      "text/plain": [
       "<Figure size 1400x400 with 3 Axes>"
      ]
     },
     "metadata": {},
     "output_type": "display_data"
    },
    {
     "data": {
      "image/png": "[encoded data removed]",
      "text/plain": [
       "<Figure size 1400x400 with 3 Axes>"
      ]
     },
     "metadata": {},
     "output_type": "display_data"
    }
   ],
   "source": [
    "# Title for each plot (parameter names)\n",
    "titles = [\"Radius\", \"Neighbours\", \"Grid\"]\n",
    "\n",
    "# Plot each set of stats\n",
    "for results, name in zip([results_steve, results_darrell], [\"Steve\", \"Darrell\"]):\n",
    "    plt.figure(figsize=(14, 4))\n",
    "    for idx in range(3):\n",
    "        stats = [[conf for params, conf in results.items() if params[idx] == n] for n in gs_values]\n",
    "        plt.subplot(1, 3, idx + 1)\n",
    "        plot_stats(stats, gs_values, f\"{titles[idx]} ({name})\")\n",
    "    plt.show()"
   ]
  },
  {
   "cell_type": "markdown",
   "id": "94c8e188-f80e-445e-850d-5a771201859e",
   "metadata": {},
   "source": [
    "<p>\n",
    "The first result for the plot \"Grid (Steve)\" is difficult to make out, so let's take a closer look: the first 3 quartiles are less than 0.5 (in fact, you'd have to go to the 77th percentile to go above 0.5), and even the outliers are quite small.\n",
    "</p>"
   ]
  },
  {
   "cell_type": "code",
   "execution_count": 10,
   "id": "b82f3b1a-30ba-408b-8bbe-82f919eb2595",
   "metadata": {},
   "outputs": [
    {
     "data": {
      "image/png": "[encoded data removed]",
      "text/plain": [
       "<Figure size 400x400 with 1 Axes>"
      ]
     },
     "metadata": {},
     "output_type": "display_data"
    }
   ],
   "source": [
    "# Use only the first grid search value for grid\n",
    "values = gs_values[:1]\n",
    "stats_steve = [[conf for params, conf in results_steve.items() if params[2] == n] for n in values][0]\n",
    "\n",
    "# Compute outliers\n",
    "q1 = np.percentile(stats_steve, 25)\n",
    "q3 = np.percentile(stats_steve, 75)\n",
    "iqr = q3 - q1\n",
    "lower_bound = q1 - 1.5 * iqr\n",
    "upper_bound = q3 + 1.5 * iqr\n",
    "outliers = [x for x in stats_steve if x < lower_bound or x > upper_bound]\n",
    "\n",
    "# Boxplot the data\n",
    "plt.figure(figsize=(4, 4))\n",
    "plot_stats(stats_steve, values, \"Grid (Steve)\")\n",
    "plt.text(1.1, q3, f\"Q3: {q3:.8f}\", ha=\"left\", va=\"center\", fontsize=10)\n",
    "for ol in outliers:\n",
    "    plt.text(1.03, ol+0.005, f\"{ol:.8f}\", ha=\"left\", va=\"center\", fontsize=10)\n",
    "plt.show()"
   ]
  },
  {
   "cell_type": "markdown",
   "id": "617327fa-0777-448f-8007-a907506b2830",
   "metadata": {},
   "source": [
    "# Conclusion\n",
    "\n",
    "<p>\n",
    "This notebook has walked through a simple facial recognition setup. Freely available libraries such as <a href=\"https://opencv.org/\">OpenCV</a> make the task very easy for a technically minded person, but the real skill in implementing a production system is in the tuning of parameters. We saw above that the best scores were from the wrong face being identified. This demonstrates the importance of careful testing under real-life conditions in order to create a model that not only correctly identifies a user, but also avoids false positives.\n",
    "</p>"
   ]
  }
 ],
 "metadata": {
  "kernelspec": {
   "display_name": "facialrec",
   "language": "python",
   "name": "facialrec"
  },
  "language_info": {
   "codemirror_mode": {
    "name": "ipython",
    "version": 3
   },
   "file_extension": ".py",
   "mimetype": "text/x-python",
   "name": "python",
   "nbconvert_exporter": "python",
   "pygments_lexer": "ipython3",
   "version": "3.8.0"
  }
 },
 "nbformat": 4,
 "nbformat_minor": 5
}
